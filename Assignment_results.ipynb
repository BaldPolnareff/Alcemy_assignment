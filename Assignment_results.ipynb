{
 "cells": [
  {
   "attachments": {},
   "cell_type": "markdown",
   "metadata": {},
   "source": [
    "# Onboarding Session: **alcemy** Product Introduction"
   ]
  },
  {
   "attachments": {},
   "cell_type": "markdown",
   "metadata": {},
   "source": [
    "## Setting \n",
    "\n",
    "`Video Conference` : Google Meet\n",
    "\n",
    "`Date` : 2023-06-01\n",
    "\n",
    "`Time` : 10:00 AM (UTC+1)\n",
    "\n",
    "`Time Allocation` : 2.5 hours"
   ]
  },
  {
   "attachments": {},
   "cell_type": "markdown",
   "metadata": {},
   "source": [
    "## Agenda "
   ]
  },
  {
   "attachments": {},
   "cell_type": "markdown",
   "metadata": {},
   "source": [
    "1. `Introduction and Overview` (15 min)\n",
    "     + Welcome and Introductions\n",
    "     + Purpose of the meeting: Introduce **alcemy** and its benefits \n",
    "     + Agenda Overview"
   ]
  },
  {
   "attachments": {},
   "cell_type": "markdown",
   "metadata": {},
   "source": [
    "2. `Understanding Plant Needs and Challenges` (30 min)\n",
    "     + Discussion with the Customer representatives \n",
    "     + Understanding their specific needs and challenges\n",
    "     + Understanding their current processes and tools\n",
    "     + Understanding their expectations from **alcemy**\n",
    "     + Identifying the key goals and objectives\n"
   ]
  },
  {
   "attachments": {},
   "cell_type": "markdown",
   "metadata": {},
   "source": [
    "3. `Product Overview` (45 min)\n",
    "     + **alcemy**'s core features: \n",
    "          + Real-time monitoring\n",
    "          + Machine learning based predictions for *compressive strength* \n",
    "          + *Fineness* recommendations for process optimization\n",
    "     + **demonstration** of the product: \n",
    "          + Live demo \n",
    "          + Guided overview of the dashboard\n",
    "          + Data interpretation and decision-making\n"
   ]
  },
  {
   "attachments": {},
   "cell_type": "markdown",
   "metadata": {},
   "source": [
    "4. `Hands-on Experience` (30 min)\n",
    "     + Participants will be given access to the demo \n",
    "     + Guided exercises \n"
   ]
  },
  {
   "attachments": {},
   "cell_type": "markdown",
   "metadata": {},
   "source": [
    "5. `Q&A and Feedback` (30 min)\n",
    "     + Open discussion for clarifications\n",
    "     + Feedback and suggestions\n",
    "     + Potential Next steps: \n",
    "       + **alcemy**'s pricing and licensing\n",
    "       + **alcemy**'s implementation and support\n",
    "       + Scheduling a follow-up meeting for a more advanced demo\n",
    "     "
   ]
  },
  {
   "attachments": {},
   "cell_type": "markdown",
   "metadata": {},
   "source": [
    "# Data Analysis"
   ]
  },
  {
   "attachments": {},
   "cell_type": "markdown",
   "metadata": {},
   "source": [
    "## Target Deviation\n",
    "\n",
    "The target deviation is a measure of how far the measured compressive strength of a sample is from the target value (50 MPa).\n",
    "\n",
    "The way we do this, is by utilizing the following formula: \n",
    "\n",
    "$$ target \\ deviation = \\sqrt{\\frac{1}{N - 1}\\ \\sum_{i=1}^{N} (x_i - t)^2} $$\n",
    "\n",
    "Where:\n",
    "\n",
    "+ $N$ is the number of samples in the dataset\n",
    "+ $x_i$ is the measured compressive strength of a sample \n",
    "+ $t$ is the target value of the sample (50 MPa)\n",
    "\n",
    "This is in fact a quantity akin to the standard deviation, but instead of the mean value $\\mu$, we use the target value *t* as the reference point. \n",
    "\n",
    "Ideally, we want to minimize the target deviation, and keeping it below 1 MPa. "
   ]
  },
  {
   "attachments": {},
   "cell_type": "markdown",
   "metadata": {},
   "source": [
    "### Weekly target deviation results"
   ]
  },
  {
   "attachments": {},
   "cell_type": "markdown",
   "metadata": {},
   "source": [
    "I decided to take advantage of the `pandas` Python library to perform the data analysis. I split the original dataset into 4 separate dataframes, each corresponding to a week of data. \n",
    "\n",
    "This bar plot shows the target deviation for each week: \n",
    "\n",
    "+ Week 1 and 3 meet the target deviation requirement\n",
    "+ Week 2 and 4 do not meet the target deviation requirement"
   ]
  },
  {
   "attachments": {},
   "cell_type": "markdown",
   "metadata": {},
   "source": [
    "![](plots/Weekly_target_deviation.svg)"
   ]
  },
  {
   "attachments": {},
   "cell_type": "markdown",
   "metadata": {},
   "source": [
    "## Evaluating the results \n",
    "\n",
    "The excessive deviation could be due to the following reasons: \n",
    "\n",
    "+ The cement has not been ground finely enough\n",
    "+ The clinker quality is not consistent\n",
    "\n",
    "Both of these issues could contribute to the excessive deviation, or it could be a combination of both."
   ]
  },
  {
   "attachments": {},
   "cell_type": "markdown",
   "metadata": {},
   "source": [
    "### Cement powder fineness \n",
    "\n",
    "The cement powder fineness is a measure of the size of the cement particles, as analyzed by a *PSD* (Particle Size Distribution) test. The smaller the particles, the stronger the concrete. \n",
    "Thankfully, we have available data on both *actual* and *recommended* cement powder fineness. By analyzing their ratio, we can understand if the real fineness has \n",
    "been overshot (i.e. the powder is too coarse), when this value is greater than 1. "
   ]
  },
  {
   "attachments": {},
   "cell_type": "markdown",
   "metadata": {},
   "source": [
    "Given that for each week a single sample has been collected daily, we can scatter plot the ratio over time for each week, and identify the days where the ratio is greater than 1.\n",
    "\n",
    "Another factor impacting the ratio is the quality of the clinker, which is the main ingredient of cement. The clinker is produced by heating limestone and clay in a kiln, and the amount of $C3S$ phase present in the clinker is a quality indicator. The client might have a target percentage of $C3S$ phase in the clinker, so we can use this information to color the scattered points, aided by a colorbar."
   ]
  },
  {
   "attachments": {},
   "cell_type": "markdown",
   "metadata": {},
   "source": [
    "![](plots/Daily_fineness_ratio.svg)"
   ]
  },
  {
   "attachments": {},
   "cell_type": "markdown",
   "metadata": {},
   "source": [
    "The plots show that the clinker phase is very inconsistent between its maximum and minimum values, but the fineness ratio seems to be a very clear indicator that during week 2 and 4, the cement powder was too coarse, on average. This is especially true for week 4, where the ratio is consistently above 1. \n",
    "\n",
    "Week 1 and 3 seem to be more consistent, with the ratio being more densely clustered around 1."
   ]
  },
  {
   "attachments": {},
   "cell_type": "markdown",
   "metadata": {},
   "source": [
    "### Conclusion\n",
    "\n",
    "It seems that the main factor driving the excessive deviation is the fineness of the cement powder, which is too coarse on average for week 2 and 4. If the client wants to reduce the deviation, they should consider grinding the cement powder more finely, and as close as possible to the recommended value.\n",
    "\n",
    "Considering that the clinker phase is very inconsistent, it might be worth getting this value more consistent, and reanalyzing the data to see if the deviation has been reduced."
   ]
  }
 ],
 "metadata": {
  "kernelspec": {
   "display_name": "ML",
   "language": "python",
   "name": "python3"
  },
  "language_info": {
   "name": "python",
   "version": "3.11.3"
  },
  "orig_nbformat": 4
 },
 "nbformat": 4,
 "nbformat_minor": 2
}
